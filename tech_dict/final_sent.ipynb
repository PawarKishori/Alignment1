{
 "cells": [
  {
   "cell_type": "code",
   "execution_count": 7,
   "metadata": {},
   "outputs": [
    {
     "name": "stdout",
     "output_type": "stream",
     "text": [
      "[['physical', 'BOwika', 1], ['country', 'xeSa', 2], ['terrain', 'BUBAga ', 3], ['region', 'kRewra', 4], ['region', 'kRewra', 4], ['country', 'xeSa', 5], ['soil', 'mqxA', 9], ['soil', 'mqxA', 9], ['place', 'sWAna', 9], ['place', 'sWAna', 9], ['soil', 'mqxA', 9], ['soil', 'mqxA', 9], ['weathering', 'apakRaya', 13], ['erosion', 'aparaxana', 13], ['deposition', 'nikRepaNa', 13], ['formation', 'nirmANa', 14], ['physical', 'BOwika', 14], ['crust', 'parpatI', 16], ['earth', 'pqWvI', 16], ['movement', 'gawi ', 17], ['continental', 'mahAxvIpIya', 17], ['boundary', 'parisImA', 19], ['boundary', 'parisImA', 20], ['boundary', 'parisImA', 22], ['movement', 'gawi ', 23], ['position', 'sWiwi', 23], ['size', 'AkAra', 23], ['evolution', 'vikAsa', 24], ['part', 'BAga', 26], ['part', 'BAga', 26], ['south', 'xakRiNa', 27], ['south', 'xakRiNa', 27], ['south', 'xakRiNa', 27], ['south', 'xakRiNa', 27], ['crust', 'parpatI', 28], ['north', 'uwwara', 28], ['sedimentary', 'avasAxI', 30], ['tethys', 'teWisa', 30], ['folded', 'valiwa', 30], ['form', 'rUpa', 30], ['part', 'BAga', 31], ['ancient', 'prAcIna', 31], ['continent', 'mahAxvIpa', 31], ['part', 'BAga', 31], ['tethys', 'teWisa', 32], ['northern', 'uwwarI', 32], ['plateau', 'paTAra', 32], ['formation', 'nirmANa', 32], ['basin', 'xroNI', 32], ['time', 'samaya', 33], ['north', 'uwwara', 33], ['south', 'xakRiNa', 33], ['northern', 'uwwarI', 34], ['land', 'BUmi', 35], ['physical', 'BOwika', 35], ['plateau', 'paTAra', 36], ['stable', 'sWira', 37], ['land', 'BUmi', 37], ['himalayas', 'himAlaya', 38], ['northern', 'uwwarI', 38], ['topography', 'sWalAkqwi', 40], ['northern', 'uwwarI', 41], ['plateau', 'paTAra', 42], ['igneous', 'Agneya', 42], ['himalayas', 'himAlaya', 46], ['northern', 'uwwarI', 46], ['mountain', 'parvawa', 47], ['west', 'paScima', 47], ['east', 'pUrva', 47], ['direction', 'xiSA', 47], ['himalayas', 'himAlaya', 48], ['eastern', 'pUrvI', 50], ['western', 'paScimI', 50], ['northern', 'uwwarI', 53], ['himalayas', 'himAlaya', 53], ['himalayas', 'himAlaya', 56], ['core', 'kroda', 57], ['part', 'BAga', 57], ['himalayas', 'himAlaya', 57], ['granite', 'grenAita', 57], ['himalayas', 'himAlaya', 59], ['south', 'xakRiNa', 61], ['altitude', 'UzcAI', 63], ['average', 'Osawa', 63], ['valley', 'GAtI', 65], ['valley', 'GAtI', 65], ['region', 'kRewra', 66], ['state', 'sWiwi', 67], ['himalayas', 'himAlaya', 68], ['altitude', 'UzcAI', 69], ['main', 'muKya', 70], ['north', 'uwwara', 70], ['himalayas', 'himAlaya', 74], ['west', 'paScima', 74], ['east', 'pUrva', 74], ['river', 'naxI', 75], ['part', 'BAga', 76], ['himalayas', 'himAlaya', 76], ['himalayas', 'himAlaya', 76], ['himalayas', 'himAlaya', 76], ['west', 'paScima', 76], ['east', 'pUrva', 76], ['part', 'BAga', 77], ['himalayas', 'himAlaya', 77], ['himalayas', 'himAlaya', 77], ['himalayas', 'himAlaya', 77], ['himalayas', 'himAlaya', 77], ['himalayas', 'himAlaya', 78], ['himalayas', 'himAlaya', 78], ['himalayas', 'himAlaya', 78], ['himalayas', 'himAlaya', 78], ['regional ', 'kRewrIya', 79], ['himalayas', 'himAlaya', 79], ['eastern', 'pUrvI', 80], ['boundary', 'sImA', 80], ['himalayas', 'himAlaya', 80], ['gorge', 'mahAKadda', 81], ['himalayas', 'himAlaya', 81], ['south', 'xakRiNa', 81], ['eastern', 'pUrvI', 81], ['boundary', 'sImA', 81], ['eastern', 'pUrvI', 82], ['north', 'uwwara', 83], ['eastern', 'pUrvI', 83], ['sedimentary', 'avasAxI', 83], ['northern', 'uwwarI', 86], ['northern', 'uwwarI', 87], ['plain', 'mExAna ', 87], ['river', 'naxI', 87], ['plain', 'mExAna ', 88], ['basin', 'besina', 89], ['basin', 'xroNI', 89], ['plain', 'mExAna ', 89], ['area', 'kRewra', 90], ['plain', 'mExAna ', 91], ['water', 'pAnI', 92], ['favourable', 'anukUla', 92], ['climate', 'jalavAyu', 92], ['northern', 'uwwarI', 93], ['work', 'kArya', 93], ['river', 'naxI', 94], ['river', 'naxI', 94], ['formation', 'nirmANa', 94], ['riverine', 'naxIya', 94], ['silt', 'gAxa', 95], ['water', 'pAnI', 97], ['water', 'pAnI', 98], ['northern', 'uwwarI', 99], ['plain', 'mExAna ', 99], ['western', 'paScimI', 100], ['part', 'BAga', 100], ['northern', 'uwwarI', 100], ['plain', 'mExAna ', 100], ['plain', 'mExAna ', 100], ['part', 'BAga', 101], ['plain', 'mExAna ', 101]]\n"
     ]
    }
   ],
   "source": [
    "import re\n",
    "def fact_generation(h_corpus) :\n",
    "    #temp_dic_form(\"eng_words.log\")\n",
    "    log=open(\"eng_words.log\",\"r\")\n",
    "    word=log.read()\n",
    "    logs=word.strip().split(\"\\n\")\n",
    "    eng_word = []\n",
    "    sent_no = []\n",
    "    final = []\n",
    "    final_sent = []\n",
    "    for i in logs :\n",
    "        list_log=i.split('\\t')\n",
    "        eng_word+=list_log[::2]\n",
    "        sent_no+=list_log[1::2]\n",
    "    \n",
    "    hin_corpus=open(h_corpus,\"r\")\n",
    "    corpus=hin_corpus.read()\n",
    "    corpus=corpus.strip().split('\\n') #list of all the Hindi sentences\n",
    "    dic=open(\"temp.txt\",\"r\")\n",
    "    dic_data=dic.read()\n",
    "    dic_data=dic_data.strip().split(\"\\n\")\n",
    "    ewords = []\n",
    "    hwords = []\n",
    "    for i in dic_data : #dic_data\n",
    "        str1=i.split(' <> ')\n",
    "        ewords+=str1[::2]  #list slicing\n",
    "        hwords+=str1[1::2] #list slicing\n",
    "    for i in range(len(corpus)) :\n",
    "        for j in range(len(sent_no)) :\n",
    "            if str(i) == sent_no[j] :\n",
    "                for k in range(len(dic_data)) :\n",
    "                    if ewords[k] == eng_word[j] :\n",
    "                        hwords[k] = re.sub(r\" ?\\([^)]+\\)\", \"\", hwords[k])\n",
    "                        list1 = re.split('; |, |[0-9]. ',hwords[k])\n",
    "                        while(\"\" in list1) : \n",
    "                            list1.remove(\"\")\n",
    "                        #rint(eng_word[j],sent_no[j],list1)\n",
    "                        pattern = re.compile(r'\\b(?:' + '|'.join(re.escape(w) for w in list1) + r')\\b')\n",
    "                        match = pattern.findall(corpus[i])\n",
    "                        for s in match :\n",
    "                            if s != '' :\n",
    "                                final_sent.append([eng_word[j],s,int(sent_no[j])+1])\n",
    "                                str1 = ewords[k]+\" <> \"+s\n",
    "                                if str1 not in final :\n",
    "                                    final.append(str1)\n",
    "                        \n",
    "    path=os.getenv(\"HOME_anu_tmp\")\n",
    "    #/home/nupur/tmp_anu_dir/tmp/BUgol2.1E_tmp\n",
    "    final_file=path+\"/tmp/\"+e_corpus+\"_tmp/multiword_facts.dat\" #name to be confirmed from ma'am\n",
    "    fact=open(final_file,\"w\")\n",
    "    for i in final :\n",
    "        fact.write(i+\"\\n\")\n",
    "    return final_sent\n",
    "final=fact_generation(\"/home/nupur/Alignment1/tech_dict/BUgol2.1H\")\n",
    "print(final)"
   ]
  },
  {
   "cell_type": "code",
   "execution_count": null,
   "metadata": {},
   "outputs": [],
   "source": []
  },
  {
   "cell_type": "code",
   "execution_count": null,
   "metadata": {},
   "outputs": [],
   "source": []
  }
 ],
 "metadata": {
  "kernelspec": {
   "display_name": "Python 3",
   "language": "python",
   "name": "python3"
  },
  "language_info": {
   "codemirror_mode": {
    "name": "ipython",
    "version": 3
   },
   "file_extension": ".py",
   "mimetype": "text/x-python",
   "name": "python",
   "nbconvert_exporter": "python",
   "pygments_lexer": "ipython3",
   "version": "3.6.8"
  }
 },
 "nbformat": 4,
 "nbformat_minor": 2
}
