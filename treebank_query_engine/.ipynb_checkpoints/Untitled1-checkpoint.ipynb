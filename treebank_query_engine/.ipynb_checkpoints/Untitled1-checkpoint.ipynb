{
 "cells": [
  {
   "cell_type": "code",
   "execution_count": null,
   "metadata": {},
   "outputs": [],
   "source": [
    "import sqlite3\n",
    "import sys\n",
    "import glob\n",
    "import re\n",
    "import os\n",
    "from wxconv import WXC\n",
    "\n",
    "\n",
    "conn = sqlite3.connect('Treebank_Hindi.db')\n",
    "print ('Opened database successfully');\n",
    "cursor = conn.cursor()"
   ]
  },
  {
   "cell_type": "code",
   "execution_count": null,
   "metadata": {},
   "outputs": [],
   "source": [
    "        cursor.execute('SELECT a.sid,a.word,b.word,a.rel,a.wordid,b.wordid from Tword a join Tword b on a.filename=b.filename and a.sid=b.sid where b.wordid=a.parent and a.rel=\"obl\";')\n",
    "        myresult = cursor.fetchall()\n",
    "\n",
    "        cur1 = conn.cursor()\n",
    "        cur2 = conn.cursor()\n",
    "        n=len(myresult)\n",
    "        f= open(\"obl_case_mark_child.dat\",'w')\n",
    "        for i in range(n):\n",
    "\n",
    "            str1 = myresult[i][0]\n",
    "            str1=\"'\"+str1+\"'\"\n",
    "            cur1.execute('SELECT sentence from Tsentence where sid='+str1)\n",
    "            res = cur1.fetchall()\n",
    "\n",
    "            final=\"\"\n",
    "            id=myresult[i][4]\n",
    "            id=\"'\"+str(id)+\"'\"\n",
    "\n",
    "            cur2.execute('SELECT word,rel from Tword where parent='+str(id)+' and sid='+str1)\n",
    "            res2 = cur2.fetchall()\n",
    "\n",
    "            for j in range(len(res2)):\n",
    "                \n",
    "                if res2[j][1]=='case' or res2[j][1]=='mark' and len(res2)!=2:\n",
    "                    final += res2[j][0]\n",
    "                    final += '_'\n",
    "            if final==\"\":\n",
    "                final=\"no child with 'case' or 'mark'\"\n",
    "            \n",
    "            if final!=\"no child with 'case' or 'mark'\":\n",
    "                print(\"sentenceid: \"+myresult[i][0]+\"\\tcid: \"+str(myresult[i][4])+\"\\tchild: \"+myresult[i][1]+\"\\tpid: \"+str(myresult[i][5])+\"\\tparent: \"+myresult[i][2]+\"\\trelation: \"+myresult[i][3]+\"\\tgrandchild: \"+final)\n",
    "                f.write(\"sentenceid: \"+myresult[i][0]+\"\\tcid: \"+str(myresult[i][4])+\"\\tchild: \"+myresult[i][1]+\"\\tpid: \"+str(myresult[i][5])+\"\\tparent: \"+myresult[i][2]+\"\\trelation: \"+myresult[i][3]+\"\\tgrandchild: \"+final+'\\n')\n",
    "        f.close()"
   ]
  },
  {
   "cell_type": "code",
   "execution_count": null,
   "metadata": {},
   "outputs": [],
   "source": []
  }
 ],
 "metadata": {
  "kernelspec": {
   "display_name": "Python 3",
   "language": "python",
   "name": "python3"
  },
  "language_info": {
   "codemirror_mode": {
    "name": "ipython",
    "version": 3
   },
   "file_extension": ".py",
   "mimetype": "text/x-python",
   "name": "python",
   "nbconvert_exporter": "python",
   "pygments_lexer": "ipython3",
   "version": "3.7.3"
  }
 },
 "nbformat": 4,
 "nbformat_minor": 2
}
