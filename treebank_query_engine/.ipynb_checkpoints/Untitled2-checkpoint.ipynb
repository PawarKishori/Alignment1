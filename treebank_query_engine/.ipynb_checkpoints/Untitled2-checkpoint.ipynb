{
 "cells": [
  {
   "cell_type": "code",
   "execution_count": 1,
   "metadata": {},
   "outputs": [
    {
     "name": "stdout",
     "output_type": "stream",
     "text": [
      "Opened database successfully\n"
     ]
    }
   ],
   "source": [
    "import sqlite3\n",
    "import sys\n",
    "import glob\n",
    "import re\n",
    "import os\n",
    "from wxconv import WXC\n",
    "\n",
    "\n",
    "conn = sqlite3.connect('Treebank_Hindi.db')\n",
    "print ('Opened database successfully');\n",
    "cursor = conn.cursor()"
   ]
  },
  {
   "cell_type": "code",
   "execution_count": null,
   "metadata": {},
   "outputs": [],
   "source": [
    "        cursor.execute('SELECT a.sid,a.wordid,a.word,a.rel,b.wordid,b.word,b.rel from Tword a join Tword b on a.sid=b.sid where a.rel=\"cc\" and a.parent=b.parent and b.rel=\"conj\";')\n",
    "        myresult = cursor.fetchall()\n",
    "        n=len(myresult)\n",
    "        #cur1 = conn.cursor()\n",
    "        f= open(\"yaxi_wo.dat\",'w')\n",
    "        for i in range(n):\n",
    "            \n",
    "            print(i)\n",
    "            #sibling=myresult[i][4]\n",
    "            #sent=myresult[i][0]\n",
    "            #sent=\"'\"+sent+\"'\"\n",
    "\n",
    "            #cur1.execute('SELECT sid,wordid,word,rel,parent from Tword where rel=\"cc\" and parent='+str(sibling)+' and sid='+sent)\n",
    "            #res = cur1.fetchall()\n",
    "\n",
    "            #for j in range(len(res)):\n",
    "            #    print(\"sentence: \"+sent+\"\\tnode1_id: \"+str(myresult[i][1])+\"\\tnode1: \"+myresult[i][2]+\"_\"+myresult[i][3]+\"\\tnode2_id: \"+str(myresult[i][4])+\"\\tnode2: \"+myresult[i][5]+\"_\"+myresult[i][6]+\"\\tchild_id: \"+str(res[j][1])+\"\\tchild: \"+res[j][2]+\"_\"+res[j][3])\n",
    "            #    f.write(\"sentence: \"+sent+\"\\tnode1_id: \"+str(myresult[i][1])+\"\\tnode1: \"+myresult[i][2]+\"_\"+myresult[i][3]+\"\\tnode2_id: \"+str(myresult[i][4])+\"\\tnode2: \"+myresult[i][5]+\"_\"+myresult[i][6]+\"\\tchild_id: \"+str(res[j][1])+\"\\tchild: \"+res[j][2]+\"_\"+res[j][3]+\"\\n\")\n",
    "        f.close()"
   ]
  }
 ],
 "metadata": {
  "kernelspec": {
   "display_name": "Python 3",
   "language": "python",
   "name": "python3"
  },
  "language_info": {
   "codemirror_mode": {
    "name": "ipython",
    "version": 3
   },
   "file_extension": ".py",
   "mimetype": "text/x-python",
   "name": "python",
   "nbconvert_exporter": "python",
   "pygments_lexer": "ipython3",
   "version": "3.7.3"
  }
 },
 "nbformat": 4,
 "nbformat_minor": 2
}
