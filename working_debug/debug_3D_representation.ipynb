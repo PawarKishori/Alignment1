{
 "cells": [
  {
   "cell_type": "code",
   "execution_count": 31,
   "metadata": {},
   "outputs": [
    {
     "name": "stdout",
     "output_type": "stream",
     "text": [
      "{1: '1_viSva', 2: '2_ke', 3: '3_aXikawara', 4: '4_jvAlAmuKI', 5: '5_evaM', 6: '6_BUkaMpa', 7: '7_saMBAvI', 8: '8_kRewra', 9: '9_pleta', 10: '10_ke', 11: '11_kinAroM', 12: '12_para', 13: '13_sWiwa', 14: '14_hEM', 15: '15_lekina', 16: '16_kuCa', 17: '17_pleta', 18: '18_ke', 19: '19_aMxara', 20: '20_BI', 21: '21_pAye', 22: '22_jAwe', 23: '23_hEM'}\n"
     ]
    },
    {
     "data": {
      "text/plain": [
       "{'A': 'anu_exact_match',\n",
       " 'B': 'anu_exact_match_without_vib',\n",
       " 'C': 'anu_root_match',\n",
       " 'D': 'anu_root_match_without_vib',\n",
       " 'E': 'multi_dictionary_match',\n",
       " 'F': 'dictionary_match',\n",
       " 'G': 'dictionary_match_without_vib',\n",
       " 'H': 'multi_hindi_wordnet_match',\n",
       " 'I': 'hindi_wordnet_match',\n",
       " 'J': 'single_verb_match',\n",
       " 'K': 'kriyA_mUla_partial_match',\n",
       " 'L': 'hnd_and_std_rel_match',\n",
       " 'M': 'partial_match',\n",
       " 'N': 'hindi_tam_match',\n",
       " 'O': 'hindi_tam_dic_match',\n",
       " 'P': 'english_word_match',\n",
       " 'Q': 'transliteration_match',\n",
       " 'R': 'scope',\n",
       " 'S': 'manual_scope',\n",
       " 'T': 'M_layer_match',\n",
       " 'U': 'M_layer_partial_match',\n",
       " 'V': 'L_layer_match',\n",
       " 'W': 'L_layer_partial_match'}"
      ]
     },
     "execution_count": 31,
     "metadata": {},
     "output_type": "execute_result"
    }
   ],
   "source": [
    "import sys, os, pandas as pd, numpy as np\n",
    "\n",
    "tmp_path=os.getenv('HOME_anu_tmp')+'/tmp/'\n",
    "eng_file_name = 'BUgol2.1E'\n",
    "sent_no = '2.25'\n",
    "path_tmp= tmp_path + eng_file_name + \"_tmp/\" + sent_no\n",
    "filename =path_tmp +  '/H_wordid-word_mapping.dat'\n",
    "efilename = path_tmp + '/E_wordid-word_mapping.dat'\n",
    "def parser2wordid1(filename):\n",
    "    with open(filename,\"r\") as f1: \n",
    "        text = f1.read().split(\"\\n\")\n",
    "        while(\"\" in text) :\n",
    "            text.remove(\"\")\n",
    "        p2w = {}\n",
    "        for line in text:\n",
    "            t = line.lstrip('(H_wordid-word').strip(')').split(\"\\t\")\n",
    "            p2w[int(t[1].lstrip(\"P\"))] = t[2]\n",
    "    return(p2w)\n",
    "\n",
    "\n",
    "def parser2wordid(filename):\n",
    "    with open(filename,\"r\") as f1: \n",
    "        text = f1.read().split(\"\\n\")\n",
    "        while(\"\" in text) :\n",
    "            text.remove(\"\")\n",
    "        p2w = {}\n",
    "        for line in text:\n",
    "            t = line.lstrip('(E_wordid-word').strip(')').split(\"\\t\")\n",
    "            p2w[int(t[1].lstrip(\"P\"))] = t[2]\n",
    "    return(p2w)\n",
    "    \n",
    "p2w = parser2wordid1(filename)\n",
    "e2w = parser2wordid(efilename)\n",
    "# print(p2w)\n",
    "# print(e2w)\n",
    "\n",
    "dfs = pd.read_csv(path_tmp +'/'+ eng_file_name + \"_\"+sent_no + \"_1.csv\")\n",
    "dfs.index = np.arange(1,len(dfs)+1)\n",
    "# print(dfs.shape)\n",
    "\n",
    "# r = len(p2w)\n",
    "# c = dfs.shape[1] - 1\n",
    "# print(r, c)\n",
    "# r_list = range(1,r+1)\n",
    "# c_list =range(1,c+1)\n",
    "# print(r_list, c_list)\n",
    "\n",
    "# df = pd.Dataframe(rows=r_list, columns = c_list)\n",
    "# df = pd.DataFrame(index=r_list, columns = c_list)\n",
    "# print(df)\n",
    "\n",
    "resources = [i.lstrip().rstrip() for i in dfs.iloc[:, 0].tolist()]\n",
    "letters = [chr(i) for i in range(65, 88)]\n",
    "resource_dict={}\n",
    "\n",
    "for k,v in zip(letters,resources):\n",
    "    resource_dict[k]=v\n",
    "\n",
    "show_hindi ={}    \n",
    "for k,v in p2w.items():\n",
    "    show_hindi[k] = str(k)+\"_\"+v\n",
    "    \n",
    "show_eng ={}    \n",
    "for k,v in e2w.items():\n",
    "    show_eng[k] = str(k)+\"_\"+v\n",
    "    \n",
    "# print(show_eng)\n",
    "print(show_hindi)\n",
    "\n",
    "eng = [show_eng[i] for i in sorted(show_eng.keys())]\n",
    "hin = [show_hindi[i] for i in sorted(show_hindi.keys())]\n",
    "\n",
    "eng, hin\n",
    "df = pd.DataFrame(index=hin, columns = eng)\n",
    "df\n",
    "p2w\n",
    "e2w\n",
    "resources\n",
    "resource_dict\n",
    "# resource_dict_invert= {v: k for k, v in resource_dict.items()}\n",
    "# dfs.replace({0=})"
   ]
  },
  {
   "cell_type": "code",
   "execution_count": 29,
   "metadata": {},
   "outputs": [
    {
     "ename": "ValueError",
     "evalue": "Expected 1D or 2D array, got 3D array instead",
     "output_type": "error",
     "traceback": [
      "\u001b[0;31m---------------------------------------------------------------------------\u001b[0m",
      "\u001b[0;31mValueError\u001b[0m                                Traceback (most recent call last)",
      "\u001b[0;32m<ipython-input-29-c81c859c1e9c>\u001b[0m in \u001b[0;36m<module>\u001b[0;34m()\u001b[0m\n\u001b[1;32m      4\u001b[0m \u001b[0;31m# b=a.reshape(1,24)\u001b[0m\u001b[0;34m\u001b[0m\u001b[0;34m\u001b[0m\u001b[0m\n\u001b[1;32m      5\u001b[0m \u001b[0;34m\u001b[0m\u001b[0m\n\u001b[0;32m----> 6\u001b[0;31m \u001b[0mnp\u001b[0m\u001b[0;34m.\u001b[0m\u001b[0msavetxt\u001b[0m\u001b[0;34m(\u001b[0m\u001b[0;34m\"matrix.csv\"\u001b[0m\u001b[0;34m,\u001b[0m\u001b[0ma\u001b[0m\u001b[0;34m,\u001b[0m\u001b[0mdelimiter\u001b[0m\u001b[0;34m=\u001b[0m\u001b[0;34m','\u001b[0m\u001b[0;34m)\u001b[0m\u001b[0;34m\u001b[0m\u001b[0m\n\u001b[0m",
      "\u001b[0;32m/home/kishori/anaconda2/envs/python3.6/lib/python2.7/site-packages/numpy/lib/npyio.pyc\u001b[0m in \u001b[0;36msavetxt\u001b[0;34m(fname, X, fmt, delimiter, newline, header, footer, comments, encoding)\u001b[0m\n\u001b[1;32m   1375\u001b[0m         \u001b[0;32mif\u001b[0m \u001b[0mX\u001b[0m\u001b[0;34m.\u001b[0m\u001b[0mndim\u001b[0m \u001b[0;34m==\u001b[0m \u001b[0;36m0\u001b[0m \u001b[0;32mor\u001b[0m \u001b[0mX\u001b[0m\u001b[0;34m.\u001b[0m\u001b[0mndim\u001b[0m \u001b[0;34m>\u001b[0m \u001b[0;36m2\u001b[0m\u001b[0;34m:\u001b[0m\u001b[0;34m\u001b[0m\u001b[0m\n\u001b[1;32m   1376\u001b[0m             raise ValueError(\n\u001b[0;32m-> 1377\u001b[0;31m                 \"Expected 1D or 2D array, got %dD array instead\" % X.ndim)\n\u001b[0m\u001b[1;32m   1378\u001b[0m         \u001b[0;32melif\u001b[0m \u001b[0mX\u001b[0m\u001b[0;34m.\u001b[0m\u001b[0mndim\u001b[0m \u001b[0;34m==\u001b[0m \u001b[0;36m1\u001b[0m\u001b[0;34m:\u001b[0m\u001b[0;34m\u001b[0m\u001b[0m\n\u001b[1;32m   1379\u001b[0m             \u001b[0;31m# Common case -- 1d array of numbers\u001b[0m\u001b[0;34m\u001b[0m\u001b[0;34m\u001b[0m\u001b[0m\n",
      "\u001b[0;31mValueError\u001b[0m: Expected 1D or 2D array, got 3D array instead"
     ]
    }
   ],
   "source": [
    "import numpy as np\n",
    "a=np.zeros((2,3,4))\n",
    "a[0,0,0]=10\n",
    "b=a.reshape(1,24)\n",
    "\n",
    "np.savetxt(\"matrix.csv\",b,delimiter=',')"
   ]
  },
  {
   "cell_type": "code",
   "execution_count": 28,
   "metadata": {},
   "outputs": [
    {
     "name": "stdout",
     "output_type": "stream",
     "text": [
      "1.000000000000000000e+01,0.000000000000000000e+00,0.000000000000000000e+00,0.000000000000000000e+00,0.000000000000000000e+00,0.000000000000000000e+00,0.000000000000000000e+00,0.000000000000000000e+00,0.000000000000000000e+00,0.000000000000000000e+00,0.000000000000000000e+00,0.000000000000000000e+00,0.000000000000000000e+00,0.000000000000000000e+00,0.000000000000000000e+00,0.000000000000000000e+00,0.000000000000000000e+00,0.000000000000000000e+00,0.000000000000000000e+00,0.000000000000000000e+00,0.000000000000000000e+00,0.000000000000000000e+00,0.000000000000000000e+00,0.000000000000000000e+00\r\n"
     ]
    }
   ],
   "source": [
    "!cat matrix.csv"
   ]
  },
  {
   "cell_type": "code",
   "execution_count": null,
   "metadata": {},
   "outputs": [],
   "source": []
  }
 ],
 "metadata": {
  "kernelspec": {
   "display_name": "Python 3",
   "language": "python",
   "name": "python3"
  },
  "language_info": {
   "codemirror_mode": {
    "name": "ipython",
    "version": 2
   },
   "file_extension": ".py",
   "mimetype": "text/x-python",
   "name": "python",
   "nbconvert_exporter": "python",
   "pygments_lexer": "ipython2",
   "version": "2.7.16"
  }
 },
 "nbformat": 4,
 "nbformat_minor": 2
}
