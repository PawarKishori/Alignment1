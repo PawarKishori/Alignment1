{
 "cells": [
  {
   "cell_type": "code",
   "execution_count": null,
   "metadata": {},
   "outputs": [],
   "source": [
    "!whereis python\n",
    "from bs4 import BeautifulSoup\n",
    "import csv,sys\n",
    "import pandas as pd\n",
    "\n",
    "path_tmp= \"/home/kishori/a/tmp_anu_dir/tmp/BUgol2.1E_tmp/\"\n",
    "\n",
    "eng_file_name = sys.argv[1]\n",
    "sent_no = sys.argv[2]\n",
    "\n",
    "print(\"===========>\",sent_no)\n",
    "\n",
    "html = open(path_tmp +sent_no +'/'+ eng_file_name +'_table1.html').read()\n",
    "soup = BeautifulSoup(html, \"lxml\")\n",
    "table = soup.find('table')\n",
    "table_rows = table.find_all('tr')\n",
    "\n",
    "print(type(table))\n",
    "l=[]\n",
    "for tr in table_rows:\n",
    "    td = tr.find_all('td')\n",
    "    row = [tr.text for tr in td]\n",
    "    l.append(row)\n",
    "df = pd.DataFrame(l)\n",
    "#df1= df[9:-1]\n",
    "#df2 = df1.drop(df1.columns[[-1]], axis=1)\n",
    "#df2.to_csv(path_tmp +sent_no +'/'+ eng_file_name + \"_\"+sent_no + \".csv\", index=False)\n",
    "df[9:-1].drop(df.columns[[-1]], axis=1).to_csv(path_tmp +sent_no +'/'+ eng_file_name + \"_\"+sent_no + \".csv\", index=False)\n"
   ]
  },
  {
   "cell_type": "code",
   "execution_count": null,
   "metadata": {},
   "outputs": [],
   "source": []
  }
 ],
 "metadata": {
  "kernelspec": {
   "display_name": "Python 2",
   "language": "python",
   "name": "python2"
  },
  "language_info": {
   "codemirror_mode": {
    "name": "ipython",
    "version": 2
   },
   "file_extension": ".py",
   "mimetype": "text/x-python",
   "name": "python",
   "nbconvert_exporter": "python",
   "pygments_lexer": "ipython2",
   "version": "2.7.16"
  }
 },
 "nbformat": 4,
 "nbformat_minor": 2
}
